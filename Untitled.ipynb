{
 "cells": [
  {
   "cell_type": "code",
   "execution_count": 2,
   "id": "0db2b4d5-3a3b-43f6-9627-44840b77840b",
   "metadata": {},
   "outputs": [
    {
     "name": "stdout",
     "output_type": "stream",
     "text": [
      "      movieId                             title  \\\n",
      "0           1                  Toy Story (1995)   \n",
      "1           2                    Jumanji (1995)   \n",
      "2           3           Grumpier Old Men (1995)   \n",
      "5           6                       Heat (1995)   \n",
      "6           7                    Sabrina (1995)   \n",
      "...       ...                               ...   \n",
      "8287   106782   Wolf of Wall Street, The (2013)   \n",
      "8354   109374  Grand Budapest Hotel, The (2014)   \n",
      "8358   109487               Interstellar (2014)   \n",
      "8457   112852    Guardians of the Galaxy (2014)   \n",
      "8673   122904                   Deadpool (2016)   \n",
      "\n",
      "                                           genres  rating_count  rating_mean  \n",
      "0     Adventure|Animation|Children|Comedy|Fantasy           215     3.920930  \n",
      "1                      Adventure|Children|Fantasy           110     3.431818  \n",
      "2                                  Comedy|Romance            52     3.259615  \n",
      "5                           Action|Crime|Thriller           102     3.946078  \n",
      "6                                  Comedy|Romance            54     3.185185  \n",
      "...                                           ...           ...          ...  \n",
      "8287                           Comedy|Crime|Drama            54     3.916667  \n",
      "8354                                 Comedy|Drama            52     3.778846  \n",
      "8358                                  Sci-Fi|IMAX            73     3.993151  \n",
      "8457                      Action|Adventure|Sci-Fi            59     4.050847  \n",
      "8673               Action|Adventure|Comedy|Sci-Fi            54     3.833333  \n",
      "\n",
      "[436 rows x 5 columns]\n"
     ]
    }
   ],
   "source": [
    "import pandas as pd\n",
    "\n",
    "ratings_df = pd.read_csv('ratings.csv')\n",
    "movies_df = pd.read_csv('movies.csv')\n",
    "\n",
    "grouped_ratings = ratings_df.groupby('movieId').agg(\n",
    "    rating_count=('rating', 'count'),\n",
    "    rating_mean=('rating', 'mean')\n",
    ").reset_index()\n",
    "\n",
    "merged_df = pd.merge(movies_df, grouped_ratings, on='movieId', how='inner')\n",
    "\n",
    "filtered_df = merged_df[merged_df['rating_count'] > 50]\n",
    "\n",
    "print(filtered_df)"
   ]
  },
  {
   "cell_type": "code",
   "execution_count": 4,
   "id": "b8a3d852-c4ff-4c3c-836b-5d0ff5bfebef",
   "metadata": {},
   "outputs": [
    {
     "name": "stdout",
     "output_type": "stream",
     "text": [
      "The most popular movie based on average user ratings is: Shawshank Redemption, The (1994) with an average rating of 4.43\n"
     ]
    }
   ],
   "source": [
    "import pandas as pd\n",
    "\n",
    "ratings_df = pd.read_csv('ratings.csv')\n",
    "movies_df = pd.read_csv('movies.csv')\n",
    "\n",
    "grouped_ratings = ratings_df.groupby('movieId').agg(\n",
    "    rating_count=('rating', 'count'),\n",
    "    rating_mean=('rating', 'mean')\n",
    ").reset_index()\n",
    "\n",
    "merged_df = pd.merge(movies_df, grouped_ratings, on='movieId', how='inner')\n",
    "\n",
    "filtered_df = merged_df[merged_df['rating_count'] > 50]\n",
    "\n",
    "target_movies = [\"Godfather, The (1972)\", \"Shawshank Redemption, The (1994)\", \"Jumanji (1995)\", \"Wolf of Wall Street, The (2013)\"]\n",
    "\n",
    "specific_movies_df = filtered_df[filtered_df['title'].isin(target_movies)]\n",
    "\n",
    "most_popular_movie = specific_movies_df.loc[specific_movies_df['rating_mean'].idxmax()]\n",
    "\n",
    "print(f\"The most popular movie based on average user ratings is: {most_popular_movie['title']} with an average rating of {most_popular_movie['rating_mean']:.2f}\")\n"
   ]
  },
  {
   "cell_type": "code",
   "execution_count": 5,
   "id": "cade9578-0708-484b-8392-46c9ff6ea2fb",
   "metadata": {},
   "outputs": [
    {
     "name": "stdout",
     "output_type": "stream",
     "text": [
      "The following movies are in the top 5 most popular based on the number of user ratings:\n",
      "                                 title  rating_count\n",
      "257                Pulp Fiction (1994)           307\n",
      "510   Silence of the Lambs, The (1991)           279\n",
      "1938                Matrix, The (1999)           278\n"
     ]
    }
   ],
   "source": [
    "import pandas as pd\n",
    "\n",
    "# Load the data from CSV files\n",
    "ratings_df = pd.read_csv('ratings.csv')\n",
    "movies_df = pd.read_csv('movies.csv')\n",
    "\n",
    "grouped_ratings = ratings_df.groupby('movieId').agg(\n",
    "    rating_count=('rating', 'count'),\n",
    "    rating_mean=('rating', 'mean')\n",
    ").reset_index()\n",
    "\n",
    "merged_df = pd.merge(movies_df, grouped_ratings, on='movieId', how='inner')\n",
    "\n",
    "filtered_df = merged_df[merged_df['rating_count'] > 50]\n",
    "\n",
    "top_5_popular_movies = filtered_df.sort_values(by='rating_count', ascending=False).head(5)\n",
    "\n",
    "target_movies = [\"Pulp Fiction (1994)\", \"Bad Boys (1995)\", \"Silence of the Lambs, The (1991)\", \"Matrix, The (1999)\"]\n",
    "\n",
    "selected_movies_in_top_5 = top_5_popular_movies[top_5_popular_movies['title'].isin(target_movies)]\n",
    "\n",
    "if not selected_movies_in_top_5.empty:\n",
    "    print(\"The following movies are in the top 5 most popular based on the number of user ratings:\")\n",
    "    print(selected_movies_in_top_5[['title', 'rating_count']])\n",
    "else:\n",
    "    print(\"None of the selected movies are in the top 5 most popular based on the number of user ratings.\")\n"
   ]
  },
  {
   "cell_type": "code",
   "execution_count": 7,
   "id": "33e944c1-268e-42da-a204-4f752876dcb0",
   "metadata": {},
   "outputs": [
    {
     "name": "stdout",
     "output_type": "stream",
     "text": [
      "The third most popular Sci-Fi movie based on the number of user ratings is: Jurassic Park (1993)\n"
     ]
    }
   ],
   "source": [
    "import pandas as pd\n",
    "\n",
    "ratings_df = pd.read_csv('ratings.csv')\n",
    "movies_df = pd.read_csv('movies.csv')\n",
    "\n",
    "grouped_ratings = ratings_df.groupby('movieId').agg(\n",
    "    rating_count=('rating', 'count'),\n",
    "    rating_mean=('rating', 'mean')\n",
    ").reset_index()\n",
    "\n",
    "merged_df = pd.merge(movies_df, grouped_ratings, on='movieId', how='inner')\n",
    "\n",
    "filtered_df = merged_df[merged_df['rating_count'] > 50]\n",
    "\n",
    "sci_fi_movies_df = filtered_df[filtered_df['genres'].str.contains(\"Sci-Fi\", case=False)]\n",
    "\n",
    "sorted_sci_fi_movies = sci_fi_movies_df.sort_values(by='rating_count', ascending=False)\n",
    "\n",
    "third_most_popular_sci_fi_movie = sorted_sci_fi_movies.iloc[2]  \n",
    "\n",
    "target_movies = [\"Deadpool (2016)\", \"Terminator 2: Judgment Day (1991)\", \"X-Men: The Last Stand (2006)\", \"Jurassic Park (1993)\"]\n",
    "\n",
    "\n",
    "if third_most_popular_sci_fi_movie['title'] in target_movies:\n",
    "    print(f\"The third most popular Sci-Fi movie based on the number of user ratings is: {third_most_popular_sci_fi_movie['title']}\")\n",
    "else:\n",
    "    print(f\"The third most popular Sci-Fi movie based on the number of user ratings is not in the provided list.\")"
   ]
  },
  {
   "cell_type": "code",
   "execution_count": 8,
   "id": "de494fa9-60a5-4a15-a3f6-4be42d205d41",
   "metadata": {},
   "outputs": [
    {
     "name": "stdout",
     "output_type": "stream",
     "text": [
      "MovieId with the highest rating: 53\n",
      "Highest rating: 5.0\n"
     ]
    }
   ],
   "source": [
    "import pandas as pd\n",
    "\n",
    "links_df = pd.read_csv('links.csv')\n",
    "movies_df = pd.read_csv('movies.csv')\n",
    "ratings_df = pd.read_csv('ratings.csv')\n",
    "\n",
    "\n",
    "average_ratings = ratings_df.groupby('movieId')['rating'].mean()\n",
    "\n",
    "\n",
    "highest_rated_movieId = average_ratings.idxmax()\n",
    "highest_rating = average_ratings.max()\n",
    "\n",
    "print(\"MovieId with the highest rating:\", highest_rated_movieId)\n",
    "print(\"Highest rating:\", highest_rating)"
   ]
  },
  {
   "cell_type": "code",
   "execution_count": 9,
   "id": "8e7a548f-e343-4a8f-a75b-405b0595bc77",
   "metadata": {},
   "outputs": [
    {
     "name": "stdout",
     "output_type": "stream",
     "text": [
      "Sci-Fi MovieId with the highest rating: 3687\n",
      "Highest Sci-Fi rating: 5.0\n"
     ]
    }
   ],
   "source": [
    "import pandas as pd\n",
    "\n",
    "links_df = pd.read_csv('links.csv')\n",
    "movies_df = pd.read_csv('movies.csv')\n",
    "ratings_df = pd.read_csv('ratings.csv')\n",
    "\n",
    "sci_fi_movies = movies_df[movies_df['genres'].str.contains('Sci-Fi')]\n",
    "\n",
    "\n",
    "sci_fi_ratings = pd.merge(sci_fi_movies, ratings_df, on='movieId')\n",
    "\n",
    "\n",
    "average_sci_fi_ratings = sci_fi_ratings.groupby('movieId')['rating'].mean()\n",
    "\n",
    "\n",
    "highest_rated_sci_fi_movieId = average_sci_fi_ratings.idxmax()\n",
    "highest_sci_fi_rating = average_sci_fi_ratings.max()\n",
    "\n",
    "print(\"Sci-Fi MovieId with the highest rating:\", highest_rated_sci_fi_movieId)\n",
    "print(\"Highest Sci-Fi rating:\", highest_sci_fi_rating)"
   ]
  },
  {
   "cell_type": "code",
   "execution_count": 10,
   "id": "253e2c79-84b4-4627-a433-bd8be2d59917",
   "metadata": {},
   "outputs": [
    {
     "name": "stderr",
     "output_type": "stream",
     "text": [
      "C:\\Users\\kamal\\anaconda3\\Lib\\site-packages\\seaborn\\_oldcore.py:1119: FutureWarning: use_inf_as_na option is deprecated and will be removed in a future version. Convert inf values to NaN before operating instead.\n",
      "  with pd.option_context('mode.use_inf_as_na', True):\n"
     ]
    },
    {
     "data": {
      "image/png": "[encoded data removed]",
      "text/plain": [
       "<Figure size 1000x600 with 1 Axes>"
      ]
     },
     "metadata": {},
     "output_type": "display_data"
    }
   ],
   "source": [
    "import pandas as pd\n",
    "import matplotlib.pyplot as plt\n",
    "import seaborn as sns\n",
    "\n",
    "\n",
    "movies_df = pd.read_csv('movies.csv')\n",
    "ratings_df = pd.read_csv('ratings.csv')\n",
    "\n",
    "\n",
    "fight_club_id = movies_df[movies_df['title'] == 'Fight Club (1999)']['movieId'].values[0]\n",
    "\n",
    "fight_club_ratings = ratings_df[ratings_df['movieId'] == fight_club_id]['rating']\n",
    "\n",
    "\n",
    "plt.figure(figsize=(10, 6))\n",
    "sns.histplot(fight_club_ratings, kde=True, bins=10)\n",
    "plt.title('Distribution of User Ratings for Fight Club (1999)')\n",
    "plt.xlabel('Rating')\n",
    "plt.ylabel('Frequency')\n",
    "plt.grid(True)\n",
    "plt.show()"
   ]
  },
  {
   "cell_type": "code",
   "execution_count": null,
   "id": "806d302a-a5a7-4ccb-96e1-0e3fb32a5c76",
   "metadata": {},
   "outputs": [],
   "source": []
  }
 ],
 "metadata": {
  "kernelspec": {
   "display_name": "Python 3 (ipykernel)",
   "language": "python",
   "name": "python3"
  },
  "language_info": {
   "codemirror_mode": {
    "name": "ipython",
    "version": 3
   },
   "file_extension": ".py",
   "mimetype": "text/x-python",
   "name": "python",
   "nbconvert_exporter": "python",
   "pygments_lexer": "ipython3",
   "version": "3.11.7"
  }
 },
 "nbformat": 4,
 "nbformat_minor": 5
}
